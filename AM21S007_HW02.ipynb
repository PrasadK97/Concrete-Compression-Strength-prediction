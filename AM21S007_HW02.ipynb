{
 "cells": [
  {
   "cell_type": "code",
   "execution_count": 35,
   "id": "9432255b",
   "metadata": {},
   "outputs": [],
   "source": [
    "import pandas as pd\n",
    "import numpy as np\n",
    "import matplotlib.pyplot as plt"
   ]
  },
  {
   "cell_type": "code",
   "execution_count": 36,
   "id": "6120f872",
   "metadata": {},
   "outputs": [],
   "source": [
    "# Storing the data file path in a variable\n",
    "\n",
    "data_file_location ='E:\\SEMESTER 3\\Machine Learning by Balaji Srinivasan\\Concrete_Data.xls'\n",
    "\n",
    "Concrete_Data = pd.read_excel(data_file_location) # reading the excel file using pandas"
   ]
  },
  {
   "cell_type": "markdown",
   "id": "daa327b4",
   "metadata": {},
   "source": [
    "####  Dividing the data into two parts X and Y where X are the features and Y is the output/result"
   ]
  },
  {
   "cell_type": "code",
   "execution_count": 39,
   "id": "68530494",
   "metadata": {},
   "outputs": [
    {
     "data": {
      "text/plain": [
       "0       79.986111\n",
       "1       61.887366\n",
       "2       40.269535\n",
       "3       41.052780\n",
       "4       44.296075\n",
       "          ...    \n",
       "1025    44.284354\n",
       "1026    31.178794\n",
       "1027    23.696601\n",
       "1028    32.768036\n",
       "1029    32.401235\n",
       "Name: Concrete compressive strength(MPa, megapascals) , Length: 1030, dtype: float64"
      ]
     },
     "execution_count": 39,
     "metadata": {},
     "output_type": "execute_result"
    }
   ],
   "source": [
    "# Storing the concrete compression strength column in Y\n",
    "\n",
    "Y = Concrete_Data.iloc[:,-1]\n",
    "Y"
   ]
  },
  {
   "cell_type": "code",
   "execution_count": 38,
   "id": "dbb8108d",
   "metadata": {},
   "outputs": [],
   "source": [
    "X = Concrete_Data.drop(['Concrete compressive strength(MPa, megapascals) '],axis=1)"
   ]
  },
  {
   "cell_type": "code",
   "execution_count": 6,
   "id": "9b4c477b",
   "metadata": {},
   "outputs": [
    {
     "data": {
      "text/html": [
       "<div>\n",
       "<style scoped>\n",
       "    .dataframe tbody tr th:only-of-type {\n",
       "        vertical-align: middle;\n",
       "    }\n",
       "\n",
       "    .dataframe tbody tr th {\n",
       "        vertical-align: top;\n",
       "    }\n",
       "\n",
       "    .dataframe thead th {\n",
       "        text-align: right;\n",
       "    }\n",
       "</style>\n",
       "<table border=\"1\" class=\"dataframe\">\n",
       "  <thead>\n",
       "    <tr style=\"text-align: right;\">\n",
       "      <th></th>\n",
       "      <th>Cement (component 1)(kg in a m^3 mixture)</th>\n",
       "      <th>Blast Furnace Slag (component 2)(kg in a m^3 mixture)</th>\n",
       "      <th>Fly Ash (component 3)(kg in a m^3 mixture)</th>\n",
       "      <th>Water  (component 4)(kg in a m^3 mixture)</th>\n",
       "      <th>Superplasticizer (component 5)(kg in a m^3 mixture)</th>\n",
       "      <th>Coarse Aggregate  (component 6)(kg in a m^3 mixture)</th>\n",
       "      <th>Fine Aggregate (component 7)(kg in a m^3 mixture)</th>\n",
       "      <th>Age (day)</th>\n",
       "    </tr>\n",
       "  </thead>\n",
       "  <tbody>\n",
       "    <tr>\n",
       "      <th>0</th>\n",
       "      <td>540.0</td>\n",
       "      <td>0.0</td>\n",
       "      <td>0.0</td>\n",
       "      <td>162.0</td>\n",
       "      <td>2.5</td>\n",
       "      <td>1040.0</td>\n",
       "      <td>676.0</td>\n",
       "      <td>28</td>\n",
       "    </tr>\n",
       "    <tr>\n",
       "      <th>1</th>\n",
       "      <td>540.0</td>\n",
       "      <td>0.0</td>\n",
       "      <td>0.0</td>\n",
       "      <td>162.0</td>\n",
       "      <td>2.5</td>\n",
       "      <td>1055.0</td>\n",
       "      <td>676.0</td>\n",
       "      <td>28</td>\n",
       "    </tr>\n",
       "    <tr>\n",
       "      <th>2</th>\n",
       "      <td>332.5</td>\n",
       "      <td>142.5</td>\n",
       "      <td>0.0</td>\n",
       "      <td>228.0</td>\n",
       "      <td>0.0</td>\n",
       "      <td>932.0</td>\n",
       "      <td>594.0</td>\n",
       "      <td>270</td>\n",
       "    </tr>\n",
       "    <tr>\n",
       "      <th>3</th>\n",
       "      <td>332.5</td>\n",
       "      <td>142.5</td>\n",
       "      <td>0.0</td>\n",
       "      <td>228.0</td>\n",
       "      <td>0.0</td>\n",
       "      <td>932.0</td>\n",
       "      <td>594.0</td>\n",
       "      <td>365</td>\n",
       "    </tr>\n",
       "    <tr>\n",
       "      <th>4</th>\n",
       "      <td>198.6</td>\n",
       "      <td>132.4</td>\n",
       "      <td>0.0</td>\n",
       "      <td>192.0</td>\n",
       "      <td>0.0</td>\n",
       "      <td>978.4</td>\n",
       "      <td>825.5</td>\n",
       "      <td>360</td>\n",
       "    </tr>\n",
       "  </tbody>\n",
       "</table>\n",
       "</div>"
      ],
      "text/plain": [
       "   Cement (component 1)(kg in a m^3 mixture)  \\\n",
       "0                                      540.0   \n",
       "1                                      540.0   \n",
       "2                                      332.5   \n",
       "3                                      332.5   \n",
       "4                                      198.6   \n",
       "\n",
       "   Blast Furnace Slag (component 2)(kg in a m^3 mixture)  \\\n",
       "0                                                0.0       \n",
       "1                                                0.0       \n",
       "2                                              142.5       \n",
       "3                                              142.5       \n",
       "4                                              132.4       \n",
       "\n",
       "   Fly Ash (component 3)(kg in a m^3 mixture)  \\\n",
       "0                                         0.0   \n",
       "1                                         0.0   \n",
       "2                                         0.0   \n",
       "3                                         0.0   \n",
       "4                                         0.0   \n",
       "\n",
       "   Water  (component 4)(kg in a m^3 mixture)  \\\n",
       "0                                      162.0   \n",
       "1                                      162.0   \n",
       "2                                      228.0   \n",
       "3                                      228.0   \n",
       "4                                      192.0   \n",
       "\n",
       "   Superplasticizer (component 5)(kg in a m^3 mixture)  \\\n",
       "0                                                2.5     \n",
       "1                                                2.5     \n",
       "2                                                0.0     \n",
       "3                                                0.0     \n",
       "4                                                0.0     \n",
       "\n",
       "   Coarse Aggregate  (component 6)(kg in a m^3 mixture)  \\\n",
       "0                                             1040.0      \n",
       "1                                             1055.0      \n",
       "2                                              932.0      \n",
       "3                                              932.0      \n",
       "4                                              978.4      \n",
       "\n",
       "   Fine Aggregate (component 7)(kg in a m^3 mixture)  Age (day)  \n",
       "0                                              676.0         28  \n",
       "1                                              676.0         28  \n",
       "2                                              594.0        270  \n",
       "3                                              594.0        365  \n",
       "4                                              825.5        360  "
      ]
     },
     "execution_count": 6,
     "metadata": {},
     "output_type": "execute_result"
    }
   ],
   "source": [
    "X.head()"
   ]
  },
  {
   "cell_type": "markdown",
   "id": "6ea74140",
   "metadata": {},
   "source": []
  },
  {
   "cell_type": "code",
   "execution_count": 7,
   "id": "661a121e",
   "metadata": {},
   "outputs": [],
   "source": []
  },
  {
   "cell_type": "markdown",
   "id": "944d064b",
   "metadata": {},
   "source": [
    "## Train test split in 70:30 ratio"
   ]
  },
  {
   "cell_type": "code",
   "execution_count": 60,
   "id": "9c25d0d6",
   "metadata": {},
   "outputs": [],
   "source": []
  },
  {
   "cell_type": "code",
   "execution_count": 40,
   "id": "e30558f9",
   "metadata": {},
   "outputs": [],
   "source": [
    "from sklearn.model_selection import train_test_split\n",
    "from sklearn.metrics import mean_squared_error,r2_score\n",
    "\n",
    "X_train , X_test , Y_train, Y_test = train_test_split(X,Y, train_size=0.7 ,random_state=5)"
   ]
  },
  {
   "cell_type": "markdown",
   "id": "5981e690",
   "metadata": {},
   "source": [
    "## Normal form equation to find W"
   ]
  },
  {
   "cell_type": "markdown",
   "id": "e8354362",
   "metadata": {},
   "source": [
    "### For train dataset"
   ]
  },
  {
   "cell_type": "code",
   "execution_count": 63,
   "id": "bc58ac08",
   "metadata": {},
   "outputs": [],
   "source": [
    "W_train = np.linalg.inv(X_train.T.dot(X_train)).dot(X_train.T).dot(Y_train)\n"
   ]
  },
  {
   "cell_type": "code",
   "execution_count": 64,
   "id": "2991fff7",
   "metadata": {},
   "outputs": [
    {
     "name": "stdout",
     "output_type": "stream",
     "text": [
      "R-squared value for training dataset is:  0.6131817181940176\n",
      "Mean squared error for training dataset is:  107.84832762793837\n"
     ]
    }
   ],
   "source": [
    "Y_pred_train = X.dot(W_train)\n",
    "r_2_score_train = r2_score(Y,Y_pred_train)\n",
    "mse_train  = mean_squared_error(Y, Y_pred_train)\n",
    "\n",
    "print('R-squared value for training dataset is: ',r_2_score_train )\n",
    "print('Mean squared error for training dataset is: ',mse_train)"
   ]
  },
  {
   "cell_type": "markdown",
   "id": "a3f3355e",
   "metadata": {},
   "source": [
    "### For test dataset"
   ]
  },
  {
   "cell_type": "code",
   "execution_count": 65,
   "id": "51d54684",
   "metadata": {},
   "outputs": [],
   "source": [
    "W_test = np.linalg.inv(X_test.T.dot(X_test)).dot(X_test.T).dot(Y_test)\n"
   ]
  },
  {
   "cell_type": "code",
   "execution_count": 66,
   "id": "6c98efcc",
   "metadata": {},
   "outputs": [
    {
     "name": "stdout",
     "output_type": "stream",
     "text": [
      "R-squared value for training dataset is:  0.6027170450236006\n",
      "Mean squared error for training dataset is:  110.76597023607268\n"
     ]
    }
   ],
   "source": [
    "Y_pred_test = X.dot(W_test)\n",
    "r_2_score_test = r2_score(Y,Y_pred_test)\n",
    "mse_test  = mean_squared_error(Y, Y_pred_test)\n",
    "\n",
    "print('R-squared value for training dataset is: ',r_2_score_test )\n",
    "print('Mean squared error for training dataset is: ',mse_test)"
   ]
  },
  {
   "cell_type": "markdown",
   "id": "ea71c205",
   "metadata": {},
   "source": [
    "#### The result obtained from normal equation has less accurate fit as compared to the linear regression fit from last homework assignment. It can be observed from the r2 score. In the training data itself in the linear regression model from last assignment, r2 score was close to 0.67 but here in normal equation approach it is 0.613.\n",
    "#### Similiar trend is observed in test data as well."
   ]
  },
  {
   "cell_type": "code",
   "execution_count": null,
   "id": "8c4a81ab",
   "metadata": {},
   "outputs": [],
   "source": []
  },
  {
   "cell_type": "markdown",
   "id": "d4f34eda",
   "metadata": {},
   "source": [
    "## L2 regularisation for train data"
   ]
  },
  {
   "cell_type": "code",
   "execution_count": 79,
   "id": "180619a2",
   "metadata": {},
   "outputs": [],
   "source": [
    "import math\n",
    "W_train_reg_m = []\n",
    "for i in range(-int(math.exp(11)),int(math.exp(11)),1000):\n",
    "    W_train_reg = np.linalg.inv(X_train.T.dot(X_train)+i*np.ones(8)).dot(X_train.T).dot(Y_train)\n",
    "    W_train_reg_m.append(W_train_reg)"
   ]
  },
  {
   "cell_type": "code",
   "execution_count": 80,
   "id": "a59f95d2",
   "metadata": {},
   "outputs": [],
   "source": [
    "Y_pred_train_reg_m  = []\n",
    "for i in range(len(W_train_reg_m)):\n",
    "    Y_pred_train_reg =  X_train.dot(W_train_reg_m[i])# making predictions\n",
    "    Y_pred_train_reg_m.append(Y_pred_train_reg)\n",
    "    \n",
    "#print(Y_pred_train_reg_m)"
   ]
  },
  {
   "cell_type": "code",
   "execution_count": 83,
   "id": "2ec0dc38",
   "metadata": {},
   "outputs": [],
   "source": [
    "r_2_matrix_train = []\n",
    "mse_matrix = []\n",
    "for i in range(len(W_train_reg_m)):\n",
    "\n",
    "\n",
    "    r_square_score = r2_score(Y_train,Y_pred_train_reg_m[i])\n",
    "    mse  = mean_squared_error(Y_train, Y_pred_train_reg_m[i])\n",
    "    mse_matrix.append(mse)\n",
    "    r_2_matrix_train.append(r_square_score)"
   ]
  },
  {
   "cell_type": "code",
   "execution_count": 87,
   "id": "1ac94a56",
   "metadata": {},
   "outputs": [
    {
     "name": "stdout",
     "output_type": "stream",
     "text": [
      "0.6334546134654757\n"
     ]
    },
    {
     "data": {
      "text/plain": [
       "[60]"
      ]
     },
     "execution_count": 87,
     "metadata": {},
     "output_type": "execute_result"
    }
   ],
   "source": [
    "r2_score_max_train = max(r_2_matrix_train)\n",
    "print(r2_score_max_train)\n",
    "[r_2_matrix_train.index(max(r_2_matrix_train))]\n"
   ]
  },
  {
   "cell_type": "code",
   "execution_count": null,
   "id": "1a0814b5",
   "metadata": {},
   "outputs": [],
   "source": []
  },
  {
   "cell_type": "code",
   "execution_count": 99,
   "id": "d245a082",
   "metadata": {},
   "outputs": [
    {
     "name": "stdout",
     "output_type": "stream",
     "text": [
      "126\n"
     ]
    },
    {
     "data": {
      "text/plain": [
       "Text(0, 0.5, 'R2_score_train_data')"
      ]
     },
     "execution_count": 99,
     "metadata": {},
     "output_type": "execute_result"
    },
    {
     "data": {
      "image/png": "[encoded data removed]",
      "text/plain": [
       "<Figure size 432x288 with 1 Axes>"
      ]
     },
     "metadata": {
      "needs_background": "light"
     },
     "output_type": "display_data"
    }
   ],
   "source": [
    "x_bar = range(-int(math.exp(11)),int(math.exp(11)),1000)\n",
    "print(x_bar[60])\n",
    "plt.plot(x_bar,r_2_matrix_train)\n",
    "plt.ylim(-1,1)\n",
    "plt.xlabel('Regularization Parameter')\n",
    "plt.ylabel('R2_score_train_data')"
   ]
  },
  {
   "cell_type": "markdown",
   "id": "897f0b37",
   "metadata": {},
   "source": [
    "### From the above graph it is evident that for different values of Regularisation parameters , the value of r2 score varies.\n",
    "### For the negative value of the parameter there is a sudden drop followed by the sudden shoot up.\n",
    "### For the positive value of the parameter is more or less constant that is very slight variation."
   ]
  },
  {
   "cell_type": "code",
   "execution_count": null,
   "id": "682d9a01",
   "metadata": {},
   "outputs": [],
   "source": []
  },
  {
   "cell_type": "markdown",
   "id": "46b31467",
   "metadata": {},
   "source": [
    "## L2 regularisation for train data"
   ]
  },
  {
   "cell_type": "code",
   "execution_count": 92,
   "id": "a1a60e7b",
   "metadata": {},
   "outputs": [],
   "source": [
    "import math\n",
    "W_test_reg_m = []\n",
    "for i in range(-int(math.exp(11)),int(math.exp(11)),1000):\n",
    "    W_test_reg = np.linalg.inv(X_test.T.dot(X_test)+i*np.ones(8)).dot(X_test.T).dot(Y_test)\n",
    "    W_test_reg_m.append(W_test_reg)"
   ]
  },
  {
   "cell_type": "code",
   "execution_count": 93,
   "id": "1fd14ee3",
   "metadata": {},
   "outputs": [],
   "source": [
    "Y_pred_test_reg_m  = []\n",
    "for i in range(len(W_test_reg_m)):\n",
    "    Y_pred_test_reg =  X_test.dot(W_test_reg_m[i])# making predictions\n",
    "    Y_pred_test_reg_m.append(Y_pred_test_reg)"
   ]
  },
  {
   "cell_type": "code",
   "execution_count": 94,
   "id": "90fa8b04",
   "metadata": {},
   "outputs": [],
   "source": [
    "r_2_matrix_test = []\n",
    "mse_matrix_test = []\n",
    "for i in range(len(W_test_reg_m)):\n",
    "\n",
    "\n",
    "    r_2_score_test = r2_score(Y_test,Y_pred_test_reg_m[i])\n",
    "    mse_test  = mean_squared_error(Y_test, Y_pred_test_reg_m[i])\n",
    "    mse_matrix_test.append(mse_test)\n",
    "    r_2_matrix_test.append(r_2_score_test)"
   ]
  },
  {
   "cell_type": "code",
   "execution_count": 96,
   "id": "41710071",
   "metadata": {},
   "outputs": [
    {
     "name": "stdout",
     "output_type": "stream",
     "text": [
      "0.5823523125524208\n"
     ]
    }
   ],
   "source": [
    "r2_score_max_test = max(r_2_matrix_test)\n",
    "print(r2_score_max_test)\n"
   ]
  },
  {
   "cell_type": "code",
   "execution_count": 98,
   "id": "1e77c623",
   "metadata": {},
   "outputs": [
    {
     "name": "stdout",
     "output_type": "stream",
     "text": [
      "126\n"
     ]
    },
    {
     "data": {
      "text/plain": [
       "Text(0, 0.5, 'R2_score_test data')"
      ]
     },
     "execution_count": 98,
     "metadata": {},
     "output_type": "execute_result"
    },
    {
     "data": {
      "image/png": "[encoded data removed]",
      "text/plain": [
       "<Figure size 432x288 with 1 Axes>"
      ]
     },
     "metadata": {
      "needs_background": "light"
     },
     "output_type": "display_data"
    }
   ],
   "source": [
    "x_bar = range(-int(math.exp(11)),int(math.exp(11)),1000)\n",
    "print(x_bar[60])\n",
    "plt.plot(x_bar,r_2_matrix_test)\n",
    "plt.ylim(-1,1)\n",
    "plt.xlabel('Regularization Parameter')\n",
    "plt.ylabel('R2_score_test data')"
   ]
  },
  {
   "cell_type": "markdown",
   "id": "5d8a0c58",
   "metadata": {},
   "source": [
    "### In the test data we also find kind of same pattern as that of train data"
   ]
  },
  {
   "cell_type": "code",
   "execution_count": null,
   "id": "585a522a",
   "metadata": {},
   "outputs": [],
   "source": []
  },
  {
   "cell_type": "code",
   "execution_count": 100,
   "id": "31e887dd",
   "metadata": {},
   "outputs": [],
   "source": [
    "from sklearn.preprocessing import PolynomialFeatures\n",
    "from sklearn.linear_model import LinearRegression"
   ]
  },
  {
   "cell_type": "code",
   "execution_count": 101,
   "id": "fd87c2ed",
   "metadata": {},
   "outputs": [],
   "source": [
    "Quad_reg = LinearRegression()\n",
    "Quadratic = PolynomialFeatures(degree=2)\n",
    "X_train_quad = Quadratic.fit_transform(X)"
   ]
  },
  {
   "cell_type": "code",
   "execution_count": 104,
   "id": "e93eb66f",
   "metadata": {},
   "outputs": [
    {
     "data": {
      "text/plain": [
       "(1030, 45)"
      ]
     },
     "execution_count": 104,
     "metadata": {},
     "output_type": "execute_result"
    }
   ],
   "source": [
    "X_train_quad.shape"
   ]
  },
  {
   "cell_type": "markdown",
   "id": "ead0f2e6",
   "metadata": {},
   "source": [
    "### Thus for the Quadratic model, in our data we have 45 features"
   ]
  },
  {
   "cell_type": "code",
   "execution_count": 114,
   "id": "82a5b753",
   "metadata": {},
   "outputs": [
    {
     "data": {
      "text/plain": [
       "LinearRegression()"
      ]
     },
     "execution_count": 114,
     "metadata": {},
     "output_type": "execute_result"
    }
   ],
   "source": [
    "Quad_reg.fit(X_train,Y_train)\n",
    "\n",
    "Y_quad_train = Quad_reg.predict(Quadratic.fit_transform(X_train))"
   ]
  },
  {
   "cell_type": "code",
   "execution_count": 106,
   "id": "1abdb730",
   "metadata": {},
   "outputs": [],
   "source": [
    "Quad_reg = LinearRegression()\n",
    "Quadratic = PolynomialFeatures(degree=3)\n",
    "X_train_quad = Quadratic.fit_transform(X)"
   ]
  },
  {
   "cell_type": "code",
   "execution_count": 107,
   "id": "abf2a649",
   "metadata": {},
   "outputs": [
    {
     "data": {
      "text/plain": [
       "(1030, 165)"
      ]
     },
     "execution_count": 107,
     "metadata": {},
     "output_type": "execute_result"
    }
   ],
   "source": [
    "X_train_quad.shape"
   ]
  },
  {
   "cell_type": "markdown",
   "id": "cfd6666d",
   "metadata": {},
   "source": [
    "## For cubic model it will have 165 features"
   ]
  },
  {
   "cell_type": "code",
   "execution_count": null,
   "id": "1425550d",
   "metadata": {},
   "outputs": [],
   "source": []
  }
 ],
 "metadata": {
  "kernelspec": {
   "display_name": "Python 3 (ipykernel)",
   "language": "python",
   "name": "python3"
  },
  "language_info": {
   "codemirror_mode": {
    "name": "ipython",
    "version": 3
   },
   "file_extension": ".py",
   "mimetype": "text/x-python",
   "name": "python",
   "nbconvert_exporter": "python",
   "pygments_lexer": "ipython3",
   "version": "3.9.7"
  }
 },
 "nbformat": 4,
 "nbformat_minor": 5
}
